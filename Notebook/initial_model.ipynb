{
 "cells": [
  {
   "cell_type": "markdown",
   "metadata": {},
   "source": [
    "Chapter 2: Initial Model\n",
    "---\n",
    "Generate the initial Random Forest Model. The random state is consistent throughout this part to ensure consistency. The training set is all matches before 2023, and test set all matches after. Whilst accuracy of the model is detemined through the precisions - i.e. the consistency with which the  "
   ]
  },
  {
   "cell_type": "code",
   "execution_count": 1,
   "metadata": {},
   "outputs": [],
   "source": [
    "# import required libraries\n",
    "import sys\n",
    "sys.path.append('../')    \n",
    "\n",
    "from sklearn.ensemble import RandomForestClassifier \n",
    "from sklearn.metrics import accuracy_score, precision_score\n",
    "\n",
    "from scipy.stats import randint\n",
    "\n",
    "import matplotlib.pyplot as plt\n",
    "\n",
    "import seaborn as sns\n",
    "\n",
    "import pandas as pd\n",
    "\n",
    "import re\n",
    "\n",
    "import numpy as np"
   ]
  },
  {
   "cell_type": "code",
   "execution_count": 2,
   "metadata": {},
   "outputs": [
    {
     "data": {
      "text/html": [
       "<div>\n",
       "<style scoped>\n",
       "    .dataframe tbody tr th:only-of-type {\n",
       "        vertical-align: middle;\n",
       "    }\n",
       "\n",
       "    .dataframe tbody tr th {\n",
       "        vertical-align: top;\n",
       "    }\n",
       "\n",
       "    .dataframe thead th {\n",
       "        text-align: right;\n",
       "    }\n",
       "</style>\n",
       "<table border=\"1\" class=\"dataframe\">\n",
       "  <thead>\n",
       "    <tr style=\"text-align: right;\">\n",
       "      <th></th>\n",
       "      <th>Team</th>\n",
       "      <th>Opposition</th>\n",
       "      <th>Winner</th>\n",
       "      <th>Ground</th>\n",
       "      <th>Match Date</th>\n",
       "      <th>Scorecard</th>\n",
       "      <th>RR</th>\n",
       "      <th>batting_average</th>\n",
       "      <th>BP</th>\n",
       "      <th>SR</th>\n",
       "      <th>bowling_average</th>\n",
       "      <th>ER</th>\n",
       "      <th>balls_per_wicket</th>\n",
       "      <th>ground_code</th>\n",
       "      <th>day_code</th>\n",
       "      <th>opp_code</th>\n",
       "      <th>target</th>\n",
       "    </tr>\n",
       "  </thead>\n",
       "  <tbody>\n",
       "    <tr>\n",
       "      <th>422</th>\n",
       "      <td>South Africa</td>\n",
       "      <td>West Indies</td>\n",
       "      <td>South Africa</td>\n",
       "      <td>Cape Town</td>\n",
       "      <td>2015-01-02</td>\n",
       "      <td>Test # 2154</td>\n",
       "      <td>3.410513</td>\n",
       "      <td>60.555556</td>\n",
       "      <td>0.444037</td>\n",
       "      <td>56.841886</td>\n",
       "      <td>28.631579</td>\n",
       "      <td>3.039106</td>\n",
       "      <td>56.526316</td>\n",
       "      <td>12</td>\n",
       "      <td>4</td>\n",
       "      <td>10</td>\n",
       "      <td>1</td>\n",
       "    </tr>\n",
       "    <tr>\n",
       "      <th>1026</th>\n",
       "      <td>West Indies</td>\n",
       "      <td>South Africa</td>\n",
       "      <td>South Africa</td>\n",
       "      <td>Cape Town</td>\n",
       "      <td>2015-01-02</td>\n",
       "      <td>Test # 2154</td>\n",
       "      <td>3.039106</td>\n",
       "      <td>28.631579</td>\n",
       "      <td>0.522059</td>\n",
       "      <td>50.651769</td>\n",
       "      <td>60.555556</td>\n",
       "      <td>3.410513</td>\n",
       "      <td>106.533333</td>\n",
       "      <td>12</td>\n",
       "      <td>4</td>\n",
       "      <td>8</td>\n",
       "      <td>-1</td>\n",
       "    </tr>\n",
       "    <tr>\n",
       "      <th>421</th>\n",
       "      <td>New Zealand</td>\n",
       "      <td>Sri Lanka</td>\n",
       "      <td>New Zealand</td>\n",
       "      <td>Wellington</td>\n",
       "      <td>2015-01-03</td>\n",
       "      <td>Test # 2155</td>\n",
       "      <td>3.280493</td>\n",
       "      <td>49.666667</td>\n",
       "      <td>0.389262</td>\n",
       "      <td>54.674886</td>\n",
       "      <td>29.052632</td>\n",
       "      <td>3.163324</td>\n",
       "      <td>55.105263</td>\n",
       "      <td>76</td>\n",
       "      <td>5</td>\n",
       "      <td>9</td>\n",
       "      <td>1</td>\n",
       "    </tr>\n",
       "    <tr>\n",
       "      <th>1025</th>\n",
       "      <td>Sri Lanka</td>\n",
       "      <td>New Zealand</td>\n",
       "      <td>New Zealand</td>\n",
       "      <td>Wellington</td>\n",
       "      <td>2015-01-03</td>\n",
       "      <td>Test # 2155</td>\n",
       "      <td>3.163324</td>\n",
       "      <td>29.052632</td>\n",
       "      <td>0.460145</td>\n",
       "      <td>52.722063</td>\n",
       "      <td>49.666667</td>\n",
       "      <td>3.280493</td>\n",
       "      <td>90.840000</td>\n",
       "      <td>76</td>\n",
       "      <td>5</td>\n",
       "      <td>6</td>\n",
       "      <td>-1</td>\n",
       "    </tr>\n",
       "    <tr>\n",
       "      <th>420</th>\n",
       "      <td>Australia</td>\n",
       "      <td>India</td>\n",
       "      <td>drawn</td>\n",
       "      <td>Sydney</td>\n",
       "      <td>2015-01-06</td>\n",
       "      <td>Test # 2156</td>\n",
       "      <td>4.279771</td>\n",
       "      <td>63.307692</td>\n",
       "      <td>0.558931</td>\n",
       "      <td>71.329520</td>\n",
       "      <td>42.764706</td>\n",
       "      <td>2.890656</td>\n",
       "      <td>88.764706</td>\n",
       "      <td>70</td>\n",
       "      <td>1</td>\n",
       "      <td>4</td>\n",
       "      <td>0</td>\n",
       "    </tr>\n",
       "    <tr>\n",
       "      <th>...</th>\n",
       "      <td>...</td>\n",
       "      <td>...</td>\n",
       "      <td>...</td>\n",
       "      <td>...</td>\n",
       "      <td>...</td>\n",
       "      <td>...</td>\n",
       "      <td>...</td>\n",
       "      <td>...</td>\n",
       "      <td>...</td>\n",
       "      <td>...</td>\n",
       "      <td>...</td>\n",
       "      <td>...</td>\n",
       "      <td>...</td>\n",
       "      <td>...</td>\n",
       "      <td>...</td>\n",
       "      <td>...</td>\n",
       "      <td>...</td>\n",
       "    </tr>\n",
       "    <tr>\n",
       "      <th>145</th>\n",
       "      <td>England</td>\n",
       "      <td>Sri Lanka</td>\n",
       "      <td>England</td>\n",
       "      <td>Lord's</td>\n",
       "      <td>2024-08-29</td>\n",
       "      <td>Test # 2546</td>\n",
       "      <td>4.337812</td>\n",
       "      <td>33.900000</td>\n",
       "      <td>0.510324</td>\n",
       "      <td>72.296865</td>\n",
       "      <td>25.684211</td>\n",
       "      <td>3.443896</td>\n",
       "      <td>44.747368</td>\n",
       "      <td>46</td>\n",
       "      <td>3</td>\n",
       "      <td>9</td>\n",
       "      <td>1</td>\n",
       "    </tr>\n",
       "    <tr>\n",
       "      <th>144</th>\n",
       "      <td>Pakistan</td>\n",
       "      <td>Bangladesh</td>\n",
       "      <td>Bangladesh</td>\n",
       "      <td>Rawalpindi</td>\n",
       "      <td>2024-08-30</td>\n",
       "      <td>Test # 2547</td>\n",
       "      <td>3.391635</td>\n",
       "      <td>22.300000</td>\n",
       "      <td>0.394619</td>\n",
       "      <td>56.527250</td>\n",
       "      <td>31.928571</td>\n",
       "      <td>3.325893</td>\n",
       "      <td>57.600000</td>\n",
       "      <td>65</td>\n",
       "      <td>4</td>\n",
       "      <td>2</td>\n",
       "      <td>-1</td>\n",
       "    </tr>\n",
       "    <tr>\n",
       "      <th>748</th>\n",
       "      <td>Bangladesh</td>\n",
       "      <td>Pakistan</td>\n",
       "      <td>Bangladesh</td>\n",
       "      <td>Rawalpindi</td>\n",
       "      <td>2024-08-30</td>\n",
       "      <td>Test # 2547</td>\n",
       "      <td>3.325893</td>\n",
       "      <td>31.928571</td>\n",
       "      <td>0.501119</td>\n",
       "      <td>55.431548</td>\n",
       "      <td>22.300000</td>\n",
       "      <td>3.391635</td>\n",
       "      <td>39.450000</td>\n",
       "      <td>65</td>\n",
       "      <td>4</td>\n",
       "      <td>7</td>\n",
       "      <td>1</td>\n",
       "    </tr>\n",
       "    <tr>\n",
       "      <th>747</th>\n",
       "      <td>Sri Lanka</td>\n",
       "      <td>England</td>\n",
       "      <td>Sri Lanka</td>\n",
       "      <td>The Oval</td>\n",
       "      <td>2024-09-06</td>\n",
       "      <td>Test # 2548</td>\n",
       "      <td>4.748768</td>\n",
       "      <td>43.818182</td>\n",
       "      <td>0.506224</td>\n",
       "      <td>79.146141</td>\n",
       "      <td>24.050000</td>\n",
       "      <td>4.665373</td>\n",
       "      <td>30.930000</td>\n",
       "      <td>72</td>\n",
       "      <td>4</td>\n",
       "      <td>3</td>\n",
       "      <td>1</td>\n",
       "    </tr>\n",
       "    <tr>\n",
       "      <th>143</th>\n",
       "      <td>England</td>\n",
       "      <td>Sri Lanka</td>\n",
       "      <td>Sri Lanka</td>\n",
       "      <td>The Oval</td>\n",
       "      <td>2024-09-06</td>\n",
       "      <td>Test # 2548</td>\n",
       "      <td>4.665373</td>\n",
       "      <td>24.050000</td>\n",
       "      <td>0.532225</td>\n",
       "      <td>77.756224</td>\n",
       "      <td>43.818182</td>\n",
       "      <td>4.748768</td>\n",
       "      <td>55.363636</td>\n",
       "      <td>72</td>\n",
       "      <td>4</td>\n",
       "      <td>9</td>\n",
       "      <td>-1</td>\n",
       "    </tr>\n",
       "  </tbody>\n",
       "</table>\n",
       "<p>790 rows × 17 columns</p>\n",
       "</div>"
      ],
      "text/plain": [
       "              Team    Opposition        Winner      Ground Match Date  \\\n",
       "422   South Africa   West Indies  South Africa   Cape Town 2015-01-02   \n",
       "1026   West Indies  South Africa  South Africa   Cape Town 2015-01-02   \n",
       "421    New Zealand     Sri Lanka   New Zealand  Wellington 2015-01-03   \n",
       "1025     Sri Lanka   New Zealand   New Zealand  Wellington 2015-01-03   \n",
       "420      Australia         India         drawn      Sydney 2015-01-06   \n",
       "...            ...           ...           ...         ...        ...   \n",
       "145        England     Sri Lanka       England      Lord's 2024-08-29   \n",
       "144       Pakistan    Bangladesh    Bangladesh  Rawalpindi 2024-08-30   \n",
       "748     Bangladesh      Pakistan    Bangladesh  Rawalpindi 2024-08-30   \n",
       "747      Sri Lanka       England     Sri Lanka    The Oval 2024-09-06   \n",
       "143        England     Sri Lanka     Sri Lanka    The Oval 2024-09-06   \n",
       "\n",
       "        Scorecard        RR  batting_average        BP         SR  \\\n",
       "422   Test # 2154  3.410513        60.555556  0.444037  56.841886   \n",
       "1026  Test # 2154  3.039106        28.631579  0.522059  50.651769   \n",
       "421   Test # 2155  3.280493        49.666667  0.389262  54.674886   \n",
       "1025  Test # 2155  3.163324        29.052632  0.460145  52.722063   \n",
       "420   Test # 2156  4.279771        63.307692  0.558931  71.329520   \n",
       "...           ...       ...              ...       ...        ...   \n",
       "145   Test # 2546  4.337812        33.900000  0.510324  72.296865   \n",
       "144   Test # 2547  3.391635        22.300000  0.394619  56.527250   \n",
       "748   Test # 2547  3.325893        31.928571  0.501119  55.431548   \n",
       "747   Test # 2548  4.748768        43.818182  0.506224  79.146141   \n",
       "143   Test # 2548  4.665373        24.050000  0.532225  77.756224   \n",
       "\n",
       "      bowling_average        ER  balls_per_wicket  ground_code  day_code  \\\n",
       "422         28.631579  3.039106         56.526316           12         4   \n",
       "1026        60.555556  3.410513        106.533333           12         4   \n",
       "421         29.052632  3.163324         55.105263           76         5   \n",
       "1025        49.666667  3.280493         90.840000           76         5   \n",
       "420         42.764706  2.890656         88.764706           70         1   \n",
       "...               ...       ...               ...          ...       ...   \n",
       "145         25.684211  3.443896         44.747368           46         3   \n",
       "144         31.928571  3.325893         57.600000           65         4   \n",
       "748         22.300000  3.391635         39.450000           65         4   \n",
       "747         24.050000  4.665373         30.930000           72         4   \n",
       "143         43.818182  4.748768         55.363636           72         4   \n",
       "\n",
       "      opp_code  target  \n",
       "422         10       1  \n",
       "1026         8      -1  \n",
       "421          9       1  \n",
       "1025         6      -1  \n",
       "420          4       0  \n",
       "...        ...     ...  \n",
       "145          9       1  \n",
       "144          2      -1  \n",
       "748          7       1  \n",
       "747          3       1  \n",
       "143          9      -1  \n",
       "\n",
       "[790 rows x 17 columns]"
      ]
     },
     "execution_count": 2,
     "metadata": {},
     "output_type": "execute_result"
    }
   ],
   "source": [
    "matches = pd.read_pickle('data/matches.pkl')\n",
    "matches"
   ]
  },
  {
   "cell_type": "code",
   "execution_count": 3,
   "metadata": {},
   "outputs": [
    {
     "data": {
      "text/plain": [
       "0.5080645161290323"
      ]
     },
     "execution_count": 3,
     "metadata": {},
     "output_type": "execute_result"
    }
   ],
   "source": [
    "model = RandomForestClassifier(n_estimators=100, min_samples_split=10, random_state=42)\n",
    "\n",
    "train = matches[matches['Match Date'] < '2023-01-01']\n",
    "test = matches[matches['Match Date'] >= '2023-01-01']\n",
    "predictors = ['opp_code', 'ground_code', 'day_code']\n",
    "model.fit(train[predictors], train['target'])\n",
    "preds = model.predict(test[predictors])\n",
    "acc = accuracy_score(test['target'], preds)\n",
    "acc"
   ]
  },
  {
   "cell_type": "code",
   "execution_count": 4,
   "metadata": {},
   "outputs": [
    {
     "data": {
      "text/plain": [
       "0.5080645161290323"
      ]
     },
     "execution_count": 4,
     "metadata": {},
     "output_type": "execute_result"
    }
   ],
   "source": [
    "acc"
   ]
  },
  {
   "cell_type": "markdown",
   "metadata": {},
   "source": [
    "Crosstab for predicted and actual outcomes"
   ]
  },
  {
   "cell_type": "code",
   "execution_count": 5,
   "metadata": {},
   "outputs": [
    {
     "data": {
      "text/html": [
       "<div>\n",
       "<style scoped>\n",
       "    .dataframe tbody tr th:only-of-type {\n",
       "        vertical-align: middle;\n",
       "    }\n",
       "\n",
       "    .dataframe tbody tr th {\n",
       "        vertical-align: top;\n",
       "    }\n",
       "\n",
       "    .dataframe thead th {\n",
       "        text-align: right;\n",
       "    }\n",
       "</style>\n",
       "<table border=\"1\" class=\"dataframe\">\n",
       "  <thead>\n",
       "    <tr style=\"text-align: right;\">\n",
       "      <th>prediction</th>\n",
       "      <th>-1</th>\n",
       "      <th>0</th>\n",
       "      <th>1</th>\n",
       "    </tr>\n",
       "    <tr>\n",
       "      <th>actual</th>\n",
       "      <th></th>\n",
       "      <th></th>\n",
       "      <th></th>\n",
       "    </tr>\n",
       "  </thead>\n",
       "  <tbody>\n",
       "    <tr>\n",
       "      <th>-1</th>\n",
       "      <td>34</td>\n",
       "      <td>6</td>\n",
       "      <td>15</td>\n",
       "    </tr>\n",
       "    <tr>\n",
       "      <th>0</th>\n",
       "      <td>5</td>\n",
       "      <td>3</td>\n",
       "      <td>6</td>\n",
       "    </tr>\n",
       "    <tr>\n",
       "      <th>1</th>\n",
       "      <td>24</td>\n",
       "      <td>5</td>\n",
       "      <td>26</td>\n",
       "    </tr>\n",
       "  </tbody>\n",
       "</table>\n",
       "</div>"
      ],
      "text/plain": [
       "prediction  -1   0   1\n",
       "actual                \n",
       "-1          34   6  15\n",
       " 0           5   3   6\n",
       " 1          24   5  26"
      ]
     },
     "execution_count": 5,
     "metadata": {},
     "output_type": "execute_result"
    }
   ],
   "source": [
    "combined = pd.DataFrame(dict(actual=test['target'], prediction=preds))\n",
    "pd.crosstab(index=combined['actual'], columns=combined['prediction'])"
   ]
  },
  {
   "cell_type": "markdown",
   "metadata": {},
   "source": [
    "This inital model has a precision of ~ 51%. While good, this improved upon in later sections. Low precision for for draws is expected as they are typically weather dependent and so inherently are hard to predict"
   ]
  },
  {
   "cell_type": "code",
   "execution_count": 6,
   "metadata": {},
   "outputs": [
    {
     "data": {
      "text/plain": [
       "0.5089360612696234"
      ]
     },
     "execution_count": 6,
     "metadata": {},
     "output_type": "execute_result"
    }
   ],
   "source": [
    "precision_score(test['target'], preds, average='weighted')"
   ]
  },
  {
   "cell_type": "markdown",
   "metadata": {},
   "source": [
    "Below are the relative importance of the various predictors used by the model. Interestingly, the ground code seems to be a more important predictor than the oppoisition. This could be due to various reasons, but one that I could that it encodes home tests and particular bowling conditions better than the oppositon faced."
   ]
  },
  {
   "cell_type": "code",
   "execution_count": 7,
   "metadata": {},
   "outputs": [
    {
     "data": {
      "image/png": "[encoded data removed]",
      "text/plain": [
       "<Figure size 432x288 with 1 Axes>"
      ]
     },
     "metadata": {
      "needs_background": "light"
     },
     "output_type": "display_data"
    }
   ],
   "source": [
    "importances = model.feature_importances_\n",
    "feature_names = predictors\n",
    "feature_importances = pd.DataFrame({\n",
    "    'Feature': feature_names,\n",
    "    'Importance': importances\n",
    "}).sort_values(by='Importance', ascending=False)\n",
    "\n",
    "sns.barplot(x='Importance', y='Feature', data=feature_importances)\n",
    "plt.title('Feature Importances from Random Forest')\n",
    "plt.xlabel('Importance')\n",
    "plt.ylabel('Feature')\n",
    "plt.show()"
   ]
  },
  {
   "cell_type": "markdown",
   "metadata": {},
   "source": [
    "Chapter 3: Improvements\n",
    "---\n",
    "Using the metric gathered earlier, it is possible to use past data to improve predictions. Firstly, a rolling windows was used and the mean computed for the last 5 matches for each statistic. This was then compared to a weighted statistic, where recent matches are weighted more heavily, which also handily increases the size of the training set. (Note: The warnings raised by innaccurate precision is due to the complete inaccuracy in predicting draws)"
   ]
  },
  {
   "cell_type": "code",
   "execution_count": 8,
   "metadata": {},
   "outputs": [],
   "source": [
    "def make_predictions(data, predictors):\n",
    "    data.replace([np.inf, -np.inf], np.nan, inplace=True)\n",
    "    data = data.dropna()\n",
    "    train = data[data['Match Date'] < '2023-01-01']\n",
    "    test = data[data['Match Date'] >= '2023-01-01']\n",
    "    model.fit(train[predictors], train['target'])\n",
    "    preds = model.predict(test[predictors])\n",
    "    combined = pd.DataFrame(dict(actual=test['target'], prediction=preds), index=test.index)\n",
    "    precision = precision_score(test['target'], preds, average='weighted')\n",
    "    return combined, precision"
   ]
  },
  {
   "cell_type": "code",
   "execution_count": 9,
   "metadata": {},
   "outputs": [],
   "source": [
    "cols = ['RR', 'batting_average', 'BP', 'SR', 'bowling_average', 'ER', 'balls_per_wicket']\n",
    "new_cols = [f'{col}_rolling' for col in cols]"
   ]
  },
  {
   "cell_type": "code",
   "execution_count": 10,
   "metadata": {},
   "outputs": [],
   "source": [
    "grouped_matches = matches.groupby('Team')"
   ]
  },
  {
   "cell_type": "code",
   "execution_count": 11,
   "metadata": {},
   "outputs": [],
   "source": [
    "def rolling_average(group, cols, new_cols):\n",
    "    group = group.sort_values('Match Date')\n",
    "    rolling_stats = group[cols].rolling(6, closed='left').mean()\n",
    "    group[new_cols] = rolling_stats\n",
    "    group = group.dropna(subset=new_cols)\n",
    "    return group"
   ]
  },
  {
   "cell_type": "markdown",
   "metadata": {},
   "source": [
    "As can be seen, the precision doesn't improve at all using this new data with a precision of ~ 47%."
   ]
  },
  {
   "cell_type": "code",
   "execution_count": 12,
   "metadata": {},
   "outputs": [
    {
     "name": "stderr",
     "output_type": "stream",
     "text": [
      "/Users/tomborrett/opt/anaconda3/lib/python3.9/site-packages/sklearn/metrics/_classification.py:1318: UndefinedMetricWarning: Precision is ill-defined and being set to 0.0 in labels with no predicted samples. Use `zero_division` parameter to control this behavior.\n",
      "  _warn_prf(average, modifier, msg_start, len(result))\n"
     ]
    },
    {
     "data": {
      "text/plain": [
       "0.46759579674940177"
      ]
     },
     "execution_count": 12,
     "metadata": {},
     "output_type": "execute_result"
    }
   ],
   "source": [
    "matches_rolling = matches.groupby('Team').apply(lambda x: rolling_average(x, cols, new_cols))\n",
    "matches_rolling = matches_rolling.droplevel('Team')\n",
    "combined, precision = make_predictions(matches_rolling, predictors + new_cols)\n",
    "precision"
   ]
  },
  {
   "cell_type": "markdown",
   "metadata": {},
   "source": [
    "Looking at tests where the model strongly predicts one winner i.e. predicts the same winner and loser for each team in each match independently, 'double predict' precision goes up to 61%. "
   ]
  },
  {
   "cell_type": "code",
   "execution_count": 13,
   "metadata": {},
   "outputs": [
    {
     "data": {
      "text/plain": [
       " 1    20\n",
       "-1     8\n",
       " 0     5\n",
       "Name: actual_x, dtype: int64"
      ]
     },
     "execution_count": 13,
     "metadata": {},
     "output_type": "execute_result"
    }
   ],
   "source": [
    "combined = combined.merge(matches_rolling[['Team', 'Opposition', 'Winner', 'Match Date']], left_index=True, right_index=True)\n",
    "merged = combined.merge(combined, left_on=['Match Date', 'Team'], right_on=['Match Date', 'Opposition'])\n",
    "score = merged[(merged['prediction_x'] == 1) & (merged['prediction_y'] == -1)]['actual_x'].value_counts()\n",
    "score"
   ]
  },
  {
   "cell_type": "code",
   "execution_count": 14,
   "metadata": {},
   "outputs": [
    {
     "data": {
      "text/plain": [
       "0.6060606060606061"
      ]
     },
     "execution_count": 14,
     "metadata": {},
     "output_type": "execute_result"
    }
   ],
   "source": [
    "score[1]/score.sum()"
   ]
  },
  {
   "cell_type": "markdown",
   "metadata": {},
   "source": [
    "Now, instead of a simple rolling window, an exponential decaying weight is applied to the previous matches with a decay rate of 100 days. With these improved rolling statisitcs, the precision of the model greatly improves."
   ]
  },
  {
   "cell_type": "code",
   "execution_count": 15,
   "metadata": {},
   "outputs": [],
   "source": [
    "def calculate_weighted_average(group, date, col, decay_factor=500):\n",
    "    group_filtered = group[group['Match Date'] < date].copy()\n",
    "    if group_filtered.empty:\n",
    "        return np.NaN\n",
    "    group_filtered['Days Since'] = (group_filtered['Match Date'].max() - group_filtered['Match Date']).dt.days\n",
    "    group_filtered['weights'] = np.exp(-group_filtered['Days Since'] / decay_factor)\n",
    "    group_filtered['weighted_average'] = (group_filtered[col] * group_filtered['weights']).cumsum() / group_filtered['weights'].cumsum()\n",
    "    return group_filtered['weighted_average'].iloc[-1]\n",
    "\n",
    "def weighted_average(group, cols, new_cols):\n",
    "    group = group.sort_values('Match Date')\n",
    "    rolling_stats = pd.DataFrame(index=group.index, columns=new_cols)\n",
    "    for col, new_col in zip(cols, new_cols):\n",
    "        rolling_stats[new_col] = [calculate_weighted_average(group, date, col) for date in group['Match Date']]\n",
    "    group = group.join(rolling_stats)\n",
    "    group = group.dropna(subset=new_cols)\n",
    "    return group"
   ]
  },
  {
   "cell_type": "code",
   "execution_count": 16,
   "metadata": {},
   "outputs": [],
   "source": [
    "matches_rolling = matches.groupby('Team').apply(lambda x: weighted_average(x, cols, new_cols))\n",
    "matches_rolling = matches_rolling.droplevel('Team')\n",
    "combined, precision = make_predictions(matches_rolling, predictors + new_cols)"
   ]
  },
  {
   "cell_type": "code",
   "execution_count": 17,
   "metadata": {},
   "outputs": [],
   "source": [
    "matches_rolling.to_pickle('data/matches_rolling.pkl')"
   ]
  },
  {
   "cell_type": "markdown",
   "metadata": {},
   "source": [
    "Precision has now increased to ~ 60% on the same test data, much better than previously."
   ]
  },
  {
   "cell_type": "code",
   "execution_count": 18,
   "metadata": {},
   "outputs": [
    {
     "data": {
      "text/plain": [
       "0.6034436843925259"
      ]
     },
     "execution_count": 18,
     "metadata": {},
     "output_type": "execute_result"
    }
   ],
   "source": [
    "precision"
   ]
  },
  {
   "cell_type": "code",
   "execution_count": 19,
   "metadata": {},
   "outputs": [
    {
     "data": {
      "text/plain": [
       " 1    18\n",
       "-1     9\n",
       " 0     1\n",
       "Name: actual_x, dtype: int64"
      ]
     },
     "execution_count": 19,
     "metadata": {},
     "output_type": "execute_result"
    }
   ],
   "source": [
    "combined = combined.merge(matches_rolling[['Team', 'Opposition', 'Winner', 'Match Date']], left_index=True, right_index=True)\n",
    "merged = combined.merge(combined, left_on=['Match Date', 'Team'], right_on=['Match Date', 'Opposition'])\n",
    "score = merged[(merged['prediction_x'] == 1) & (merged['prediction_y'] == -1)]['actual_x'].value_counts()\n",
    "score"
   ]
  },
  {
   "cell_type": "markdown",
   "metadata": {},
   "source": [
    "Again looking at matches where the model 'ouble predicts' the outcome, the precision goes up to 64% on the same test data!"
   ]
  },
  {
   "cell_type": "code",
   "execution_count": 20,
   "metadata": {},
   "outputs": [
    {
     "data": {
      "text/plain": [
       "0.6428571428571429"
      ]
     },
     "execution_count": 20,
     "metadata": {},
     "output_type": "execute_result"
    }
   ],
   "source": [
    "score[1] / score.sum()"
   ]
  }
 ],
 "metadata": {
  "kernelspec": {
   "display_name": "base",
   "language": "python",
   "name": "python3"
  },
  "language_info": {
   "codemirror_mode": {
    "name": "ipython",
    "version": 3
   },
   "file_extension": ".py",
   "mimetype": "text/x-python",
   "name": "python",
   "nbconvert_exporter": "python",
   "pygments_lexer": "ipython3",
   "version": "3.9.12"
  }
 },
 "nbformat": 4,
 "nbformat_minor": 2
}
